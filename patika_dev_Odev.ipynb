{
  "nbformat": 4,
  "nbformat_minor": 0,
  "metadata": {
    "colab": {
      "name": "patika_dev_Odev.ipynb",
      "provenance": [],
      "authorship_tag": "ABX9TyMBx3qLL5V9Mp+ZCDWfDlwQ",
      "include_colab_link": true
    },
    "kernelspec": {
      "name": "python3",
      "display_name": "Python 3"
    },
    "language_info": {
      "name": "python"
    }
  },
  "cells": [
    {
      "cell_type": "markdown",
      "metadata": {
        "id": "view-in-github",
        "colab_type": "text"
      },
      "source": [
        "<a href=\"https://colab.research.google.com/github/degerlisalih/patika.dev/blob/main/patika_dev_Odev.ipynb\" target=\"_parent\"><img src=\"https://colab.research.google.com/assets/colab-badge.svg\" alt=\"Open In Colab\"/></a>"
      ]
    },
    {
      "cell_type": "markdown",
      "metadata": {
        "id": "4kO0LPYUcD69"
      },
      "source": [
        "#soru1 : iç içe bulunan çok boyutlu liste yapısını inedex sırasını bozmadan tek boyuta düşürünüz.\n",
        "\n",
        "\n"
      ]
    },
    {
      "cell_type": "code",
      "metadata": {
        "id": "aJHqifjPi40S"
      },
      "source": [
        "input = [[1,'a',['cat'],2],[[[3]],'dog'],4,5]"
      ],
      "execution_count": null,
      "outputs": []
    },
    {
      "cell_type": "code",
      "metadata": {
        "id": "msmoZMwXWXTz"
      },
      "source": [
        "output = []\n",
        "def f(x):\n",
        "  for c in x:\n",
        "    if type(c) == list:\n",
        "      f(c)\n",
        "    else:\n",
        "      output.append(c)\n",
        "  return output"
      ],
      "execution_count": null,
      "outputs": []
    },
    {
      "cell_type": "code",
      "metadata": {
        "id": "kIwOZX-JW9zc",
        "colab": {
          "base_uri": "https://localhost:8080/"
        },
        "outputId": "76bc56ac-84fa-4096-c30b-ce7ab0b0a256"
      },
      "source": [
        "f(input)"
      ],
      "execution_count": null,
      "outputs": [
        {
          "output_type": "execute_result",
          "data": {
            "text/plain": [
              "[1, 'a', 'cat', 2, 3, 'dog', 4, 5]"
            ]
          },
          "metadata": {
            "tags": []
          },
          "execution_count": 13
        }
      ]
    },
    {
      "cell_type": "markdown",
      "metadata": {
        "id": "-i9c8EFVmG38"
      },
      "source": [
        "#soru2 : iki boyutlu listeyi tesrten sıralayınız. iç listeler de kendi içinde küçükten büyüğe sıralanmalı"
      ]
    },
    {
      "cell_type": "code",
      "metadata": {
        "id": "eD315fyaa90t"
      },
      "source": [
        "input2= [[1, 2], [3, 4], [5, 6, 7]]"
      ],
      "execution_count": null,
      "outputs": []
    },
    {
      "cell_type": "code",
      "metadata": {
        "id": "y4y9n1pNbIvf"
      },
      "source": [
        "input2.reverse()"
      ],
      "execution_count": null,
      "outputs": []
    },
    {
      "cell_type": "code",
      "metadata": {
        "id": "aewS-MSsbQJu"
      },
      "source": [
        "for i in input2:\n",
        "  i.reverse()"
      ],
      "execution_count": null,
      "outputs": []
    },
    {
      "cell_type": "code",
      "metadata": {
        "colab": {
          "base_uri": "https://localhost:8080/"
        },
        "id": "QJahebFnb0cs",
        "outputId": "d96b1989-89c7-4428-851f-3b430e537d88"
      },
      "source": [
        "output2 = input2\n",
        "print(output2)"
      ],
      "execution_count": null,
      "outputs": [
        {
          "output_type": "stream",
          "text": [
            "[[7, 6, 5], [4, 3], [2, 1]]\n"
          ],
          "name": "stdout"
        }
      ]
    }
  ]
}